{
  "cells": [
    {
      "cell_type": "markdown",
      "metadata": {
        "id": "view-in-github",
        "colab_type": "text"
      },
      "source": [
        "<a href=\"https://colab.research.google.com/github/MJMortensonWarwick/IB2AD0_Data_Science_GenerativeAI/blob/main/1_08_if_statements.ipynb\" target=\"_parent\"><img src=\"https://colab.research.google.com/assets/colab-badge.svg\" alt=\"Open In Colab\"/></a>"
      ]
    },
    {
      "cell_type": "markdown",
      "id": "3f8af4db",
      "metadata": {
        "id": "3f8af4db"
      },
      "source": [
        "![](https://drive.google.com/uc?export=view&id=1xqQczl0FG-qtNA2_WQYuWePW9oU8irqJ)"
      ]
    },
    {
      "cell_type": "markdown",
      "id": "99df676f",
      "metadata": {
        "id": "99df676f"
      },
      "source": [
        "# 1.08 if Statements\n",
        "\n",
        "Now that we have an understanding of conditional statements and logical tests, we can now write if statements that use conditional statements to determine if a piece of code is executed. There are several types of if statements:\n",
        "- if\n",
        "- elif\n",
        "- else\n",
        "\n",
        "Together they form the if-elif-else chain. Depending on the situation, you may need to use all three kinds of if statements or just one."
      ]
    },
    {
      "cell_type": "markdown",
      "id": "16c24a1e",
      "metadata": {
        "id": "16c24a1e"
      },
      "source": [
        "## if Statement\n",
        "\n",
        "When writing an if statement, you will always start with the if keyword followed by a conditional test and some indented code that you want to be executed. If the result of the conditional test is True, Python will execute the code."
      ]
    },
    {
      "cell_type": "code",
      "execution_count": null,
      "id": "894a87ca",
      "metadata": {
        "id": "894a87ca"
      },
      "outputs": [],
      "source": [
        "height = 110\n",
        "if height < 140:\n",
        "    print(\"You are not tall enough to go on the ride.\")"
      ]
    },
    {
      "cell_type": "markdown",
      "id": "f584cf55",
      "metadata": {
        "id": "f584cf55"
      },
      "source": [
        "Above is an example of the most simple kind of if statement you could have. The above if statement comprises a single conditional test followed by a single action because of that conditional test. Sometimes, such a simple if statement will suffice, but often you will want a secondary path for when your conditional statement evaluates to be False. To do this, we use the else statement."
      ]
    },
    {
      "cell_type": "markdown",
      "id": "f35ad8fe",
      "metadata": {
        "id": "f35ad8fe"
      },
      "source": [
        "## else Statement\n",
        "\n",
        "The action you wish the program to make in the event your if statement conditional test evaluates to False, is the code you write in the else statement block. The syntax for an if-else statement is like that of an if statement, except that the else statement does not require a conditional statement as it executes automatically when the if statements conditional statement is False."
      ]
    },
    {
      "cell_type": "code",
      "execution_count": null,
      "id": "cbd11ba3",
      "metadata": {
        "id": "cbd11ba3"
      },
      "outputs": [],
      "source": [
        "height = 160\n",
        "if height < 140:\n",
        "    print(\"You are not tall enough to go on the ride.\")\n",
        "else:\n",
        "    print(\"Enjoy the ride.\")"
      ]
    },
    {
      "cell_type": "markdown",
      "id": "815a55a1",
      "metadata": {
        "id": "815a55a1"
      },
      "source": [
        "## elif Statement\n",
        "\n",
        "The else statement works as a way to cover all your bases if the conditional test for the if statement fails, but many times you will want to perform additional conditions tests if the first test fails. To do this you use elif, which stands for else-if. Other than the name the syntax is exactly the same as the if statement."
      ]
    },
    {
      "cell_type": "code",
      "execution_count": null,
      "id": "cf3d2643",
      "metadata": {
        "id": "cf3d2643"
      },
      "outputs": [],
      "source": [
        "accompanied_by_adult = True\n",
        "height = 132\n",
        "\n",
        "if height >= 140:\n",
        "    print(\"Enjoy the ride.\")\n",
        "elif height >= 130 and accompanied_by_adult == True:\n",
        "    print(\"In this case, I'll make an exception. Enjoy the ride.\")\n",
        "else:\n",
        "    print(\"You are not tall enough to go on the ride.\")"
      ]
    },
    {
      "cell_type": "markdown",
      "id": "081885c9",
      "metadata": {
        "id": "081885c9"
      },
      "source": [
        "You can have as many elif conditions as you need in your if statement. Each test will be done from top to bottom and the first conditional test to pass will result in the code for that block executing and the remaining conditional tests being ignored.\n",
        "\n",
        "There will often be times, where you need multiple conditional tests to pass, this can be achieved using logical operators like **and** or **or**, but as the number of conditional tests increase, so does the complexity of the conditional statements. In cases like this, its best to just use multiple individual if statements."
      ]
    },
    {
      "cell_type": "code",
      "execution_count": null,
      "id": "d2c86614",
      "metadata": {
        "id": "d2c86614"
      },
      "outputs": [],
      "source": [
        "barber_request = [\"haircut\", \"shave\"]\n",
        "price = 0\n",
        "\n",
        "if \"haircut\" in barber_request:\n",
        "    price += 10.00\n",
        "if \"shave\" in barber_request:\n",
        "    price += 10.00\n",
        "if \"dye\" in barber_request:\n",
        "    price += 15.00\n",
        "if \"pattern\" in barber_request:\n",
        "    price += 5\n",
        "\n",
        "print(price)"
      ]
    },
    {
      "cell_type": "markdown",
      "id": "39c62196",
      "metadata": {
        "id": "39c62196"
      },
      "source": [
        "In the above example of an order at a barbers, there are 24 possible combinations a customer could take. If you wanted to write a series of if-elif-else statements to satisfy the conditional tests for every possible combination, you would need to write one if statement, 22 elif statements and an else statement. For this reason its best to avoid using the if-elif-else chain if you require that every conditional test is checked."
      ]
    },
    {
      "cell_type": "markdown",
      "id": "0704fd7c",
      "metadata": {
        "id": "0704fd7c"
      },
      "source": [
        "## else statement cont.\n",
        "\n",
        "Finally, regarding the else block, an else block is not mandatory. The else block executes code in all cases where all the previous if and elif tests failed. The else block will still execute code even if the data inputted was invalid."
      ]
    },
    {
      "cell_type": "code",
      "execution_count": null,
      "id": "792641ec",
      "metadata": {
        "id": "792641ec"
      },
      "outputs": [],
      "source": [
        "age = -5000\n",
        "\n",
        "if age >= 65:\n",
        "    print(\"You are a senior.\")\n",
        "elif age >= 18:\n",
        "    print(\"You are an adult.\")\n",
        "else:\n",
        "    print(\"You are a child.\")"
      ]
    },
    {
      "cell_type": "markdown",
      "id": "b0227a73",
      "metadata": {
        "id": "b0227a73"
      },
      "source": [
        "In the above example we do some tests, if a person is 65 years old or older that person can be considered a senior, next we check if the person is between the age of 18 and 64. (We don’t need to use a logical operator here because if age was > 64, the first test would evaluate to be True and the if statement would execute the code and exit). If both conditions are not met, then the person must be a child.\n",
        "\n",
        "Using the else statement here makes sense, but it’s actually better to omit it and to do a final elif statement instead, as some invalid data has been input (-5000). This does not seem like such a big deal, but carelessly using else blocks can cause your program to accept malicious code as a valid input."
      ]
    },
    {
      "cell_type": "code",
      "execution_count": null,
      "id": "649c41c1",
      "metadata": {
        "id": "649c41c1"
      },
      "outputs": [],
      "source": [
        "age = -5000\n",
        "\n",
        "if age >= 65:\n",
        "    print(\"You are a senior.\")\n",
        "elif age >= 18:\n",
        "    print(\"You are an adult.\")\n",
        "elif age > 0:\n",
        "    print(\"You are a child.\")"
      ]
    },
    {
      "cell_type": "markdown",
      "id": "44bf1785",
      "metadata": {
        "id": "44bf1785"
      },
      "source": [
        "Here we see that omitting the else statement has resulted in the program not accepting the invalid data. Even better, we could do:"
      ]
    },
    {
      "cell_type": "code",
      "source": [
        "age = -5000\n",
        "\n",
        "if age >= 65:\n",
        "    print(\"You are a senior.\")\n",
        "elif age >= 18:\n",
        "    print(\"You are an adult.\")\n",
        "elif age > 0:\n",
        "    print(\"You are a child.\")\n",
        "else:\n",
        "    print(\"Invalid data.\")"
      ],
      "metadata": {
        "id": "rTSwBv9ZRa2a"
      },
      "id": "rTSwBv9ZRa2a",
      "execution_count": null,
      "outputs": []
    },
    {
      "cell_type": "markdown",
      "id": "c7f400ba",
      "metadata": {
        "id": "c7f400ba"
      },
      "source": [
        "## Nested if Statements\n",
        "\n",
        "A nested if statement is when you have an if statement inside of an if statement. The syntax is the same as a regular if statement, only that the code you want to execute upon a succesful conditional test is also another if statement."
      ]
    },
    {
      "cell_type": "code",
      "execution_count": null,
      "id": "ea614425",
      "metadata": {
        "id": "ea614425"
      },
      "outputs": [],
      "source": [
        "age = 40\n",
        "\n",
        "if age >= 18:\n",
        "    print(\"You are an adult.\")\n",
        "    if age < 55:\n",
        "        print(\"But you still got a long life ahead of you.\")\n",
        "    else:\n",
        "        print(\"Wow I wish I look as good as you when I'm that old.\")\n",
        "else:\n",
        "    print(\"Pfft enjoy the best years of your life while you can.\")"
      ]
    },
    {
      "cell_type": "code",
      "execution_count": null,
      "id": "2cdcbf13",
      "metadata": {
        "id": "2cdcbf13"
      },
      "outputs": [],
      "source": []
    }
  ],
  "metadata": {
    "kernelspec": {
      "display_name": "Python 3 (ipykernel)",
      "language": "python",
      "name": "python3"
    },
    "language_info": {
      "codemirror_mode": {
        "name": "ipython",
        "version": 3
      },
      "file_extension": ".py",
      "mimetype": "text/x-python",
      "name": "python",
      "nbconvert_exporter": "python",
      "pygments_lexer": "ipython3",
      "version": "3.8.8"
    },
    "colab": {
      "provenance": [],
      "include_colab_link": true
    }
  },
  "nbformat": 4,
  "nbformat_minor": 5
}